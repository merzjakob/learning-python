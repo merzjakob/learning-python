{
 "cells": [
  {
   "cell_type": "code",
   "execution_count": 34,
   "metadata": {
    "scrolled": true
   },
   "outputs": [
    {
     "ename": "IndentationError",
     "evalue": "unindent does not match any outer indentation level (<tokenize>, line 27)",
     "output_type": "error",
     "traceback": [
      "\u001b[0;36m  File \u001b[0;32m\"<tokenize>\"\u001b[0;36m, line \u001b[0;32m27\u001b[0m\n\u001b[0;31m    'nonnegative'\u001b[0m\n\u001b[0m    ^\u001b[0m\n\u001b[0;31mIndentationError\u001b[0m\u001b[0;31m:\u001b[0m unindent does not match any outer indentation level\n"
     ]
    }
   ],
   "source": [
    "# %load data-types.py\n",
    "# Unpacking US cities text file\n",
    "data_file = open('us_cities.txt', 'r')\n",
    "for line in data_file:\n",
    "    # Tuple unpacking\n",
    "    city, population = line.split(':')\n",
    "    # Capitalize city names\n",
    "    city = city.title()\n",
    "    # Add commas to numbers\n",
    "    population = f'{int(population):,}'\n",
    "    print(city.ljust(15) + population)\n",
    "data_file.close()\n",
    "\n",
    "\n",
    "countries = ('Japan', 'Korea', 'China')\n",
    "cities = ('Tokyo', 'Seoul', 'Beijing')\n",
    "for country, city in zip(countries, cities):\n",
    "    print(f'The capital of {country} is {city}')\n",
    "\n",
    "names = ['Tom', 'John']\n",
    "marks = ['E', 'F']\n",
    "dict(zip(names, marks))\n",
    "\n",
    "def f(x):\n",
    "    if x < 0:\n",
    "         'negative'\n",
    "     'nonnegative'\n",
    "\n",
    "f(2)\n"
   ]
  }
 ],
 "metadata": {
  "kernelspec": {
   "display_name": "Python 3",
   "language": "python",
   "name": "python3"
  },
  "language_info": {
   "codemirror_mode": {
    "name": "ipython",
    "version": 3
   },
   "file_extension": ".py",
   "mimetype": "text/x-python",
   "name": "python",
   "nbconvert_exporter": "python",
   "pygments_lexer": "ipython3",
   "version": "3.7.3"
  }
 },
 "nbformat": 4,
 "nbformat_minor": 2
}
